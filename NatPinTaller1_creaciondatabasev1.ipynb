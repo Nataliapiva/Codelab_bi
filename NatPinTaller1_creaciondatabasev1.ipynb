{
  "nbformat": 4,
  "nbformat_minor": 0,
  "metadata": {
    "colab": {
      "provenance": [],
      "include_colab_link": true
    },
    "kernelspec": {
      "name": "python3",
      "display_name": "Python 3"
    },
    "language_info": {
      "name": "python"
    }
  },
  "cells": [
    {
      "cell_type": "markdown",
      "metadata": {
        "id": "view-in-github",
        "colab_type": "text"
      },
      "source": [
        "<a href=\"https://colab.research.google.com/github/Nataliapiva/Codelab_bi/blob/main/NatPinTaller1_creaciondatabasev1.ipynb\" target=\"_parent\"><img src=\"https://colab.research.google.com/assets/colab-badge.svg\" alt=\"Open In Colab\"/></a>"
      ]
    },
    {
      "cell_type": "markdown",
      "source": [
        "A continuación, te proporcionaré el script en Python dividido en chunks para que puedas entender cada parte por separado. Además, te mostraré cómo exportar cada tabla generada a una base de datos SQLite3."
      ],
      "metadata": {
        "id": "ek_ZWH_zsLv_"
      }
    },
    {
      "cell_type": "markdown",
      "source": [
        "#1. Configuración Inicial y Creación de la Base de Datos\n",
        "Este primer chunk configura la base de datos SQLite3 y crea la conexión a la misma."
      ],
      "metadata": {
        "id": "msl_e-lRsNME"
      }
    },
    {
      "cell_type": "code",
      "source": [
        "!pip install faker  # Install the faker module"
      ],
      "metadata": {
        "colab": {
          "base_uri": "https://localhost:8080/"
        },
        "id": "yNCpWlDusquS",
        "outputId": "c2b14d56-e581-49b0-e8e6-07bf4e704a57"
      },
      "execution_count": 1,
      "outputs": [
        {
          "output_type": "stream",
          "name": "stdout",
          "text": [
            "Collecting faker\n",
            "  Downloading Faker-28.0.0-py3-none-any.whl.metadata (15 kB)\n",
            "Requirement already satisfied: python-dateutil>=2.4 in /usr/local/lib/python3.10/dist-packages (from faker) (2.8.2)\n",
            "Requirement already satisfied: six>=1.5 in /usr/local/lib/python3.10/dist-packages (from python-dateutil>=2.4->faker) (1.16.0)\n",
            "Downloading Faker-28.0.0-py3-none-any.whl (1.8 MB)\n",
            "\u001b[2K   \u001b[90m━━━━━━━━━━━━━━━━━━━━━━━━━━━━━━━━━━━━━━━━\u001b[0m \u001b[32m1.8/1.8 MB\u001b[0m \u001b[31m16.1 MB/s\u001b[0m eta \u001b[36m0:00:00\u001b[0m\n",
            "\u001b[?25hInstalling collected packages: faker\n",
            "Successfully installed faker-28.0.0\n"
          ]
        }
      ]
    },
    {
      "cell_type": "code",
      "source": [
        "import sqlite3\n",
        "import pandas as pd\n",
        "import requests\n",
        "import random\n",
        "import uuid\n",
        "from faker import Faker\n",
        "import numpy as np\n",
        "import shutil\n",
        "from google.colab import drive"
      ],
      "metadata": {
        "id": "ezxXKK87segq"
      },
      "execution_count": 2,
      "outputs": []
    },
    {
      "cell_type": "code",
      "source": [
        "# Montar Google Drive\n",
        "drive.mount('/content/drive')"
      ],
      "metadata": {
        "colab": {
          "base_uri": "https://localhost:8080/"
        },
        "id": "A8Beixd-u2qL",
        "outputId": "c3f5f505-7f48-4504-af86-141dfc29246d"
      },
      "execution_count": 3,
      "outputs": [
        {
          "output_type": "stream",
          "name": "stdout",
          "text": [
            "Mounted at /content/drive\n"
          ]
        }
      ]
    },
    {
      "cell_type": "code",
      "source": [
        "# Inicializar Faker\n",
        "fake = Faker()\n",
        "\n",
        "# Crear la conexión a la base de datos SQLite3\n",
        "conn = sqlite3.connect('financial_data.db')\n",
        "\n",
        "# Función para ejecutar consultas SQL\n",
        "def execute_query(query, conn):\n",
        "    with conn:\n",
        "        conn.execute(query)\n",
        "\n",
        "# Crear las tablas en SQLite3\n",
        "execute_query('''CREATE TABLE IF NOT EXISTS customers (\n",
        "                 customer_id TEXT PRIMARY KEY,\n",
        "                 name TEXT,\n",
        "                 address TEXT,\n",
        "                 phone_number TEXT,\n",
        "                 email TEXT);''', conn)\n",
        "\n",
        "execute_query('''CREATE TABLE IF NOT EXISTS branches (\n",
        "                 branch_id TEXT PRIMARY KEY,\n",
        "                 branch_location TEXT,\n",
        "                 manager_name TEXT,\n",
        "                 contact_number TEXT);''', conn)\n",
        "\n",
        "execute_query('''CREATE TABLE IF NOT EXISTS transaction_types (\n",
        "                 transaction_type TEXT PRIMARY KEY,\n",
        "                 description TEXT);''', conn)\n",
        "\n",
        "execute_query('''CREATE TABLE IF NOT EXISTS transactions (\n",
        "                 transaction_id TEXT PRIMARY KEY,\n",
        "                 customer_id TEXT,\n",
        "                 transaction_date TEXT,\n",
        "                 transaction_amount REAL,\n",
        "                 transaction_location TEXT,\n",
        "                 transaction_type TEXT,\n",
        "                 fraudulent INTEGER,\n",
        "                 branch_id TEXT,\n",
        "                 FOREIGN KEY(customer_id) REFERENCES customers(customer_id),\n",
        "                 FOREIGN KEY(transaction_type) REFERENCES transaction_types(transaction_type),\n",
        "                 FOREIGN KEY(branch_id) REFERENCES branches(branch_id));''', conn)\n"
      ],
      "metadata": {
        "id": "J-LTHG_esLcK"
      },
      "execution_count": 4,
      "outputs": []
    },
    {
      "cell_type": "markdown",
      "source": [
        "#2. Generar y Guardar la Tabla de Clientes\n",
        "Este chunk se encarga de obtener datos de la API de randomuser.me y de guardar la tabla de clientes en SQLite3.\n",
        "\n",
        "\n"
      ],
      "metadata": {
        "id": "AXWHbnv8tCBx"
      }
    },
    {
      "cell_type": "code",
      "source": [
        "# Función para obtener datos de clientes desde randomuser API\n",
        "def get_random_users(num_users=10):\n",
        "    url = f\"https://randomuser.me/api/?results={num_users}&nat=us\"\n",
        "    response = requests.get(url)\n",
        "    if response.status_code == 200:\n",
        "        users = response.json()['results']\n",
        "        return users\n",
        "    else:\n",
        "        print(\"Error fetching data from randomuser.me\")\n",
        "        return []\n",
        "\n",
        "# Crear la tabla de clientes y guardarla en SQLite3\n",
        "def create_customers_table(num_customers=10):\n",
        "    users = get_random_users(num_customers)\n",
        "    customers_data = {\n",
        "        \"customer_id\": [str(uuid.uuid4()) for _ in range(num_customers)],\n",
        "        \"name\": [f\"{user['name']['first']} {user['name']['last']}\" for user in users],\n",
        "        \"address\": [f\"{user['location']['street']['number']} {user['location']['street']['name']}, {user['location']['city']}, {user['location']['state']}, {user['location']['postcode']}\" for user in users],\n",
        "        \"phone_number\": [user['phone'] for user in users],\n",
        "        \"email\": [user['email'] for user in users]\n",
        "    }\n",
        "    customers_df = pd.DataFrame(customers_data)\n",
        "    customers_df.to_sql('customers', conn, if_exists='replace', index=False)\n",
        "    return customers_df\n",
        "\n",
        "# Crear la tabla de clientes\n",
        "customers_df = create_customers_table(num_customers=100)\n"
      ],
      "metadata": {
        "id": "m134NObmtN_P"
      },
      "execution_count": 5,
      "outputs": []
    },
    {
      "cell_type": "markdown",
      "source": [
        "#3. Generar y Guardar la Tabla de Sucursales\n",
        "Este chunk utiliza Faker para generar la tabla de sucursales y la guarda en SQLite3."
      ],
      "metadata": {
        "id": "opU8YJvftU9P"
      }
    },
    {
      "cell_type": "code",
      "source": [
        "# Crear la tabla de sucursales y guardarla en SQLite3\n",
        "def create_branches_table(num_branches=10):\n",
        "    branch_data = {\n",
        "        \"branch_id\": [str(uuid.uuid4()) for _ in range(num_branches)],\n",
        "        \"branch_location\": [fake.city() for _ in range(num_branches)],\n",
        "        \"manager_name\": [fake.name() for _ in range(num_branches)],\n",
        "        \"contact_number\": [fake.phone_number() for _ in range(num_branches)]\n",
        "    }\n",
        "    branches_df = pd.DataFrame(branch_data)\n",
        "    branches_df.to_sql('branches', conn, if_exists='replace', index=False)\n",
        "    return branches_df\n",
        "\n",
        "# Crear la tabla de sucursales\n",
        "branches_df = create_branches_table(num_branches=20)\n"
      ],
      "metadata": {
        "id": "gIfOrcs-tcuV"
      },
      "execution_count": 6,
      "outputs": []
    },
    {
      "cell_type": "markdown",
      "source": [
        "#4. Generar y Guardar la Tabla de Tipos de Transacciones\n",
        "Este chunk crea la tabla de tipos de transacciones y la guarda en SQLite3."
      ],
      "metadata": {
        "id": "3dH-VebJtirL"
      }
    },
    {
      "cell_type": "code",
      "source": [
        "# Crear la tabla de tipos de transacciones y guardarla en SQLite3\n",
        "def create_transaction_types_table():\n",
        "    transaction_types_data = {\n",
        "        \"transaction_type\": [\"online\", \"in-store\"],\n",
        "        \"description\": [\"Transaction made online via the internet\",\n",
        "                        \"Transaction made at a physical store location\"]\n",
        "    }\n",
        "    transaction_types_df = pd.DataFrame(transaction_types_data)\n",
        "    transaction_types_df.to_sql('transaction_types', conn, if_exists='replace', index=False)\n",
        "    return transaction_types_df\n",
        "\n",
        "# Crear la tabla de tipos de transacciones\n",
        "transaction_types_df = create_transaction_types_table()\n"
      ],
      "metadata": {
        "id": "8wjm-zTOtqxn"
      },
      "execution_count": 7,
      "outputs": []
    },
    {
      "cell_type": "markdown",
      "source": [
        "#5. Generar y Guardar la Tabla de Transacciones\n",
        "Este chunk genera la tabla de transacciones, incluyendo las transacciones fraudulentas, y la guarda en SQLite3."
      ],
      "metadata": {
        "id": "v5X6bzTetxcx"
      }
    },
    {
      "cell_type": "code",
      "source": [
        "# Crear la tabla de transacciones y guardarla en SQLite3\n",
        "def create_transactions_table(customers_df, branches_df, num_transactions=100):\n",
        "    transaction_data = {\n",
        "        \"transaction_id\": [str(uuid.uuid4()) for _ in range(num_transactions)],\n",
        "        \"customer_id\": [random.choice(customers_df['customer_id']) for _ in range(num_transactions)],\n",
        "        \"transaction_date\": [fake.date_time_this_year().isoformat() for _ in range(num_transactions)],\n",
        "        \"transaction_amount\": [round(random.uniform(10.0, 1000.0), 2) for _ in range(num_transactions)],\n",
        "        \"transaction_location\": [fake.city() for _ in range(num_transactions)],\n",
        "        \"transaction_type\": [random.choice([\"online\", \"in-store\"]) for _ in range(num_transactions)],\n",
        "        \"fraudulent\": [0] * num_transactions\n",
        "    }\n",
        "    transactions_df = pd.DataFrame(transaction_data)\n",
        "\n",
        "    # Introducir transacciones fraudulentas\n",
        "    n_fraud = 10  # Número de transacciones fraudulentas\n",
        "    fraud_indices = np.random.choice(transactions_df.index, n_fraud, replace=False)\n",
        "    transactions_df.loc[fraud_indices, 'fraudulent'] = 1\n",
        "    transactions_df.loc[fraud_indices, 'transaction_amount'] = [round(random.uniform(1000.0, 5000.0), 2) for _ in range(n_fraud)]\n",
        "    transactions_df.loc[fraud_indices, 'transaction_type'] = \"online\"\n",
        "\n",
        "    # Asignar branch_id solo para transacciones \"in-store\"\n",
        "    in_store_indices = transactions_df[transactions_df['transaction_type'] == 'in-store'].index\n",
        "    transactions_df.loc[in_store_indices, 'branch_id'] = np.random.choice(branches_df['branch_id'], size=len(in_store_indices))\n",
        "\n",
        "    # Para transacciones online, branch_id se puede establecer en None\n",
        "    transactions_df['branch_id'].fillna('None', inplace=True)\n",
        "\n",
        "    transactions_df.to_sql('transactions', conn, if_exists='replace', index=False)\n",
        "    return transactions_df\n",
        "\n",
        "# Crear la tabla de transacciones\n",
        "transactions_df = create_transactions_table(customers_df, branches_df, num_transactions=500)\n"
      ],
      "metadata": {
        "id": "DmOYHPhKt6o-"
      },
      "execution_count": 8,
      "outputs": []
    },
    {
      "cell_type": "markdown",
      "source": [
        "#6. Verificación y Cierre de la Conexión\n",
        "Este chunk verifica que las tablas se crearon correctamente y cierra la conexión con la base de datos."
      ],
      "metadata": {
        "id": "pArdEDYCt_9D"
      }
    },
    {
      "cell_type": "code",
      "source": [
        "# Verificar la creación de tablas en SQLite3\n",
        "print(\"Tablas en la base de datos SQLite:\")\n",
        "query = \"SELECT name FROM sqlite_master WHERE type='table';\"\n",
        "tables = pd.read_sql(query, conn)\n",
        "print(tables)\n",
        "\n",
        "# Cerrar la conexión\n",
        "conn.close()\n"
      ],
      "metadata": {
        "colab": {
          "base_uri": "https://localhost:8080/"
        },
        "id": "l_8nDvdBuKSO",
        "outputId": "55ce8cb0-f53b-4f36-ca12-4259ef242a09"
      },
      "execution_count": 9,
      "outputs": [
        {
          "output_type": "stream",
          "name": "stdout",
          "text": [
            "Tablas en la base de datos SQLite:\n",
            "                name\n",
            "0          customers\n",
            "1           branches\n",
            "2  transaction_types\n",
            "3       transactions\n"
          ]
        }
      ]
    },
    {
      "cell_type": "code",
      "source": [
        "# Ruta en Google Drive donde deseas guardar la base de datos\n",
        "drive_db_path = '/content/drive/My Drive/financial_data.db'\n",
        "\n",
        "# Copiar el archivo de la base de datos a Google Drive\n",
        "shutil.copy('financial_data.db', drive_db_path)\n",
        "\n",
        "print(f'Base de datos guardada en: {drive_db_path}')"
      ],
      "metadata": {
        "colab": {
          "base_uri": "https://localhost:8080/"
        },
        "id": "iPoMHAk9vdol",
        "outputId": "4a9ee32f-5666-46f9-ff02-1f63e05758c7"
      },
      "execution_count": 10,
      "outputs": [
        {
          "output_type": "stream",
          "name": "stdout",
          "text": [
            "Base de datos guardada en: /content/drive/My Drive/financial_data.db\n"
          ]
        }
      ]
    }
  ]
}