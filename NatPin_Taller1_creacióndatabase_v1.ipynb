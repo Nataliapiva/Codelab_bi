{
  "nbformat": 4,
  "nbformat_minor": 0,
  "metadata": {
    "colab": {
      "provenance": [],
      "authorship_tag": "ABX9TyNfTpBbDtoaX1RoHnZBh1u3",
      "include_colab_link": true
    },
    "kernelspec": {
      "name": "python3",
      "display_name": "Python 3"
    },
    "language_info": {
      "name": "python"
    }
  },
  "cells": [
    {
      "cell_type": "markdown",
      "metadata": {
        "id": "view-in-github",
        "colab_type": "text"
      },
      "source": [
        "<a href=\"https://colab.research.google.com/github/Nataliapiva/Codelab_bi/blob/main/NatPin_Taller1_creaci%C3%B3ndatabase_v1.ipynb\" target=\"_parent\"><img src=\"https://colab.research.google.com/assets/colab-badge.svg\" alt=\"Open In Colab\"/></a>"
      ]
    },
    {
      "cell_type": "code",
      "execution_count": null,
      "metadata": {
        "id": "01IJZbSNqVEh"
      },
      "outputs": [],
      "source": [
        "import sqlite3"
      ]
    },
    {
      "cell_type": "code",
      "source": [
        "def create_merch_store_db():\n",
        "    # Connect to SQLite database (it will create 'merch_store.db' if it doesn't exist)\n",
        "    connection = sqlite3.connect('merch_store.db')\n",
        "    cursor = connection.cursor()\n",
        "\n",
        "       # Pets table\n",
        "    cursor.execute('''\n",
        "    CREATE TABLE IF NOT EXISTS Mascotas (\n",
        "        IDMascota INTEGER PRIMARY KEY,\n",
        "        NombreMascota TEXT NOT NULL,\n",
        "        TipoMascota TEXT NOT NULL,\n",
        "        EdadMascota INTEGER,\n",
        "        PesoMascota INTEGER,\n",
        "        TamañoMascota TEXT,\n",
        "        RazaMascota TEXT NOT NULL\n",
        "    )\n",
        "    ''')\n",
        "\n",
        "\n",
        "    # Users table\n",
        "    cursor.execute('''\n",
        "    CREATE TABLE IF NOT EXISTS Clientes (\n",
        "        IDCliente INTEGER PRIMARY KEY,\n",
        "        IDMascota INTEGER,\n",
        "        Nombre TEXT NOT NULL,\n",
        "        Email TEXT NOT NULL UNIQUE,\n",
        "        Dirección TEXT,\n",
        "        Teléfono INTEGER,\n",
        "        Satisfacción TEXT NOT NULL,\n",
        "        Cumpleaños DATE,\n",
        "        FOREIGN KEY (IDMascota) REFERENCES Mascotas(IDMascota)\n",
        "    )\n",
        "    ''')\n",
        "\n",
        "    # Products table\n",
        "    cursor.execute('''\n",
        "    CREATE TABLE IF NOT EXISTS Productos (\n",
        "        IDProducto INTEGER PRIMARY KEY,\n",
        "        IDCliente INTEGER,\n",
        "        Categoría TEXT NOT NULL,\n",
        "        Producto TEXT NOT NULL,\n",
        "        PrecioProducto REAL NOT NULL,\n",
        "        MarcaProducto TEXT,\n",
        "        InventarioProducto INTEGER NOT NULL,\n",
        "        FOREIGN KEY (IDCliente) REFERENCES Clientes(IDCliente)\n",
        "    )\n",
        "    ''')\n",
        "\n",
        "    # Services table\n",
        "    cursor.execute('''\n",
        "    CREATE TABLE IF NOT EXISTS Servicios (\n",
        "        IDServicio INTEGER PRIMARY KEY,\n",
        "        IDCliente INTEGER,\n",
        "        Servicio TEXT NOT NULL,\n",
        "        PrecioServicio REAL NOT NULL,\n",
        "        ServicioDisponible TEXT NOT NULL,\n",
        "        FOREIGN KEY (IDCliente) REFERENCES Clientes(IDCliente)\n",
        "    )\n",
        "    ''')\n",
        "\n",
        "    # OrderDetails table\n",
        "    cursor.execute('''\n",
        "    CREATE TABLE IF NOT EXISTS Ventas (\n",
        "        IDVenta INTEGER PRIMARY KEY,\n",
        "        IDProducto INTEGER,\n",
        "        IDServicio INTEGER,\n",
        "        CantidadVenta INTEGER NOT NULL,\n",
        "        PrecioUnidad INTEGER NOT NULL,\n",
        "        TotalVenta INTEGER NOT NULL,\n",
        "        FechaVenta DATE NOT NULL,\n",
        "        MétodoPagoVenta TEXT,\n",
        "        CanalVenta TEXT,\n",
        "        FOREIGN KEY (IDProducto) REFERENCES Productos(IDProducto),\n",
        "        FOREIGN KEY (IDServicio) REFERENCES Servicios(IDServicio)\n",
        "    )\n",
        "    ''')\n",
        "\n",
        "    # Commit changes and close connection\n",
        "    connection.commit()\n",
        "    connection.close()\n",
        "\n",
        "# Execute the function to create the database and tables\n",
        "create_merch_store_db()"
      ],
      "metadata": {
        "id": "YmeWBMubzKsP"
      },
      "execution_count": null,
      "outputs": []
    },
    {
      "cell_type": "code",
      "source": [
        "print (create_merch_store_db)"
      ],
      "metadata": {
        "colab": {
          "base_uri": "https://localhost:8080/"
        },
        "id": "ugDUfLEH-D3X",
        "outputId": "d2effba3-f00c-489a-ea07-689381e158ab"
      },
      "execution_count": null,
      "outputs": [
        {
          "output_type": "stream",
          "name": "stdout",
          "text": [
            "<function create_merch_store_db at 0x7dc2e8657d00>\n"
          ]
        }
      ]
    },
    {
      "cell_type": "code",
      "source": [
        "def print_database():\n",
        "    # Connect to the SQLite database\n",
        "    connection = sqlite3.connect('merch_store.db')\n",
        "    cursor = connection.cursor()\n",
        "\n",
        "    # List of tables in our schema\n",
        "    tables = ['Mascotas', 'Clientes', 'Productos', 'Servicios', 'Ventas']\n",
        "\n",
        "    # Iterate over each table and print its contents\n",
        "    for table in tables:\n",
        "        print(f\"===== {table} =====\")\n",
        "\n",
        "        # Fetch all rows from the table\n",
        "        cursor.execute(f\"SELECT * FROM {table}\")\n",
        "        rows = cursor.fetchall()\n",
        "\n",
        "        # Fetch column names for the table\n",
        "        cursor.execute(f\"PRAGMA table_info({table})\")\n",
        "        columns = [column[1] for column in cursor.fetchall()]\n",
        "\n",
        "        # Print column names\n",
        "        print(\", \".join(columns))\n",
        "\n",
        "        # Print rows\n",
        "        for row in rows:\n",
        "            print(row)\n",
        "\n",
        "        # Add a newline for separation\n",
        "        print(\"\\n\")\n",
        "\n",
        "    # Close the database connection\n",
        "    connection.close()\n",
        "\n",
        "# Execute the function to print the database contents\n",
        "print_database()"
      ],
      "metadata": {
        "colab": {
          "base_uri": "https://localhost:8080/"
        },
        "id": "JXYx3pyY-E3J",
        "outputId": "57207bf6-ccb2-4002-a38f-3099aac29170"
      },
      "execution_count": null,
      "outputs": [
        {
          "output_type": "stream",
          "name": "stdout",
          "text": [
            "===== Mascotas =====\n",
            "IDMascota, NombreMascota, TipoMascota, EdadMascota, PesoMascota, TamañoMascota, RazaMascota\n",
            "(1000, 'Rocky', 'Perro', 6, 30, 'Grande', 'Golden Retriever')\n",
            "(1001, 'Pancho', 'Gato', 3, 5, 'Pequeño', 'Persa')\n",
            "\n",
            "\n",
            "===== Clientes =====\n",
            "IDCliente, IDMascota, Nombre, Email, Dirección, Teléfono, Satisfacción, Cumpleaños\n",
            "(232100, 1000, 'Sofía Cruz', 'soficruz@gmail.com', 'Calle 25# 15-20', 3164765576, 'Muy satisfecho', '1980-03-25')\n",
            "(232155, 1001, 'Pablo Pérez', 'pablito25@hotmail.com', 'Calle 116# 50-3', 3145543212, 'Satisfecho', '1996-07-02')\n",
            "\n",
            "\n",
            "===== Productos =====\n",
            "IDProducto, IDCliente, Categoría, Producto, PrecioProducto, MarcaProducto, InventarioProducto\n",
            "(1001, 232100, 'Comida', 'Concentrado 15', 30000.0, 'Hills', 117)\n",
            "(2876, 232155, 'Accesorios', 'Collar pequeño', 18500.0, 'PetsandPets', 27)\n",
            "\n",
            "\n",
            "===== Servicios =====\n",
            "IDServicio, IDCliente, Servicio, PrecioServicio, ServicioDisponible\n",
            "(5546, 232100, 'Peluquería', 30900.0, 'Si')\n",
            "(5567, 232155, 'Baño', 40000.0, 'No')\n",
            "\n",
            "\n",
            "===== Ventas =====\n",
            "IDVenta, IDProducto, IDServicio, CantidadVenta, PrecioUnidad, TotalVenta, FechaVenta, MétodoPagoVenta, CanalVenta\n",
            "(38276, 1001, 5546, 3, 30000, 90000, '2023-02-25', 'Efectivo', 'Físico')\n",
            "(76452, 2876, 5567, 1, 18500, 18500, '2023-04-27', 'Tarjeta', 'Online')\n",
            "\n",
            "\n"
          ]
        }
      ]
    },
    {
      "cell_type": "code",
      "source": [
        "def insert_test_data():\n",
        "    # Connect to the SQLite database\n",
        "    connection = sqlite3.connect('merch_store.db')\n",
        "    cursor = connection.cursor()\n",
        "\n",
        "    # Insert test data into Pets\n",
        "    Mascotas = [\n",
        "        (1000, 'Rocky', 'Perro', 6, 30, 'Grande', 'Golden Retriever'),\n",
        "        (1001, 'Pancho', 'Gato', 3, 5, 'Pequeño', 'Persa')\n",
        "    ]\n",
        "    cursor.executemany(\"INSERT INTO Mascotas (IDMascota, NombreMascota, TipoMascota, EdadMascota, PesoMascota, TamañoMascota, RazaMascota) VALUES (?, ?, ?, ?, ?, ?, ?)\", Mascotas)\n",
        "\n",
        "    # Insert test data into Users\n",
        "    Clientes = [\n",
        "        (232100, 1000, 'Sofía Cruz', 'soficruz@gmail.com', 'Calle 25# 15-20', 3164765576, 'Muy satisfecho', '1980-03-25'),\n",
        "        (232155, 1001, 'Pablo Pérez', 'pablito25@hotmail.com', 'Calle 116# 50-3', 3145543212, 'Satisfecho', '1996-07-02'),\n",
        "    ]\n",
        "    cursor.executemany(\"INSERT INTO Clientes (IDCliente, IDMascota, Nombre, Email, Dirección, Teléfono, Satisfacción, Cumpleaños) VALUES (?, ?,?,?,?,?,?,?)\", Clientes)\n",
        "\n",
        "    # Insert test data into Products\n",
        "    Productos = [\n",
        "        (1001, 232100, 'Comida', 'Concentrado 15', 30000, 'Hills', 117),\n",
        "        (2876, 232155, 'Accesorios', 'Collar pequeño', 18500, 'PetsandPets', 27)\n",
        "    ]\n",
        "    cursor.executemany(\"INSERT INTO Productos (IDProducto, IDCliente, Categoría, Producto, PrecioProducto, MarcaProducto, InventarioProducto) VALUES (?, ?, ?, ?, ?, ?,?)\", Productos)\n",
        "\n",
        "    # Insert test data into Services\n",
        "    Servicios = [\n",
        "        (5546, 232100, 'Peluquería', 30900, 'Si'),\n",
        "        (5567, 232155, 'Baño', 40000, 'No')\n",
        "    ]\n",
        "    cursor.executemany(\"INSERT INTO Servicios (IDServicio, IDCliente, Servicio, PrecioServicio, ServicioDisponible) VALUES (?, ?, ?, ?,?)\", Servicios)\n",
        "\n",
        "    # Insert test data into Ventas\n",
        "    Ventas = [\n",
        "        (38276, 1001, 5546, 3, 30000, 90000, '2023-02-25', 'Efectivo', 'Físico'),\n",
        "        (76452, 2876, 5567, 1, 18500, 18500, '2023-04-27', 'Tarjeta', 'Online'),\n",
        "    ]\n",
        "    cursor.executemany(\"INSERT INTO Ventas (IDVenta, IDProducto, IDServicio, CantidadVenta, PrecioUnidad, TotalVenta, FechaVenta, MétodoPagoVenta, CanalVenta) VALUES (?, ?, ?, ?,?,?,?,?,?)\", Ventas)\n",
        "\n",
        "    # Commit changes and close connection\n",
        "    connection.commit()\n",
        "    connection.close()\n",
        "\n",
        "# Execute the function to insert test data\n",
        "insert_test_data()"
      ],
      "metadata": {
        "colab": {
          "base_uri": "https://localhost:8080/",
          "height": 315
        },
        "id": "PzYBO2Fh-6Bd",
        "outputId": "b4d27799-c01c-4d70-a4c4-4c598ab6c9ff"
      },
      "execution_count": null,
      "outputs": [
        {
          "output_type": "error",
          "ename": "OperationalError",
          "evalue": "database is locked",
          "traceback": [
            "\u001b[0;31m---------------------------------------------------------------------------\u001b[0m",
            "\u001b[0;31mOperationalError\u001b[0m                          Traceback (most recent call last)",
            "\u001b[0;32m<ipython-input-39-e56981cf277a>\u001b[0m in \u001b[0;36m<cell line: 46>\u001b[0;34m()\u001b[0m\n\u001b[1;32m     44\u001b[0m \u001b[0;34m\u001b[0m\u001b[0m\n\u001b[1;32m     45\u001b[0m \u001b[0;31m# Execute the function to insert test data\u001b[0m\u001b[0;34m\u001b[0m\u001b[0;34m\u001b[0m\u001b[0m\n\u001b[0;32m---> 46\u001b[0;31m \u001b[0minsert_test_data\u001b[0m\u001b[0;34m(\u001b[0m\u001b[0;34m)\u001b[0m\u001b[0;34m\u001b[0m\u001b[0;34m\u001b[0m\u001b[0m\n\u001b[0m",
            "\u001b[0;32m<ipython-input-39-e56981cf277a>\u001b[0m in \u001b[0;36minsert_test_data\u001b[0;34m()\u001b[0m\n\u001b[1;32m      9\u001b[0m         \u001b[0;34m(\u001b[0m\u001b[0;36m1001\u001b[0m\u001b[0;34m,\u001b[0m \u001b[0;34m'Pancho'\u001b[0m\u001b[0;34m,\u001b[0m \u001b[0;34m'Gato'\u001b[0m\u001b[0;34m,\u001b[0m \u001b[0;36m3\u001b[0m\u001b[0;34m,\u001b[0m \u001b[0;36m5\u001b[0m\u001b[0;34m,\u001b[0m \u001b[0;34m'Pequeño'\u001b[0m\u001b[0;34m,\u001b[0m \u001b[0;34m'Persa'\u001b[0m\u001b[0;34m)\u001b[0m\u001b[0;34m\u001b[0m\u001b[0;34m\u001b[0m\u001b[0m\n\u001b[1;32m     10\u001b[0m     ]\n\u001b[0;32m---> 11\u001b[0;31m     \u001b[0mcursor\u001b[0m\u001b[0;34m.\u001b[0m\u001b[0mexecutemany\u001b[0m\u001b[0;34m(\u001b[0m\u001b[0;34m\"INSERT INTO Mascotas (IDMascota, NombreMascota, TipoMascota, EdadMascota, PesoMascota, TamañoMascota, RazaMascota) VALUES (?, ?, ?, ?, ?, ?, ?)\"\u001b[0m\u001b[0;34m,\u001b[0m \u001b[0mMascotas\u001b[0m\u001b[0;34m)\u001b[0m\u001b[0;34m\u001b[0m\u001b[0;34m\u001b[0m\u001b[0m\n\u001b[0m\u001b[1;32m     12\u001b[0m \u001b[0;34m\u001b[0m\u001b[0m\n\u001b[1;32m     13\u001b[0m     \u001b[0;31m# Insert test data into Users\u001b[0m\u001b[0;34m\u001b[0m\u001b[0;34m\u001b[0m\u001b[0m\n",
            "\u001b[0;31mOperationalError\u001b[0m: database is locked"
          ]
        }
      ]
    },
    {
      "cell_type": "code",
      "source": [
        "# Execute the function to print the database contents\n",
        "print_database()"
      ],
      "metadata": {
        "colab": {
          "base_uri": "https://localhost:8080/"
        },
        "id": "-SOc573D1UMQ",
        "outputId": "bad24038-8e2b-4d1f-e95d-8a5aedc1cf64"
      },
      "execution_count": null,
      "outputs": [
        {
          "output_type": "stream",
          "name": "stdout",
          "text": [
            "===== Mascotas =====\n",
            "IDMascota, NombreMascota, TipoMascota, EdadMascota, PesoMascota, TamañoMascota, RazaMascota\n",
            "(1000, 'Rocky', 'Perro', 6, 30, 'Grande', 'Golden Retriever')\n",
            "(1001, 'Pancho', 'Gato', 3, 5, 'Pequeño', 'Persa')\n",
            "\n",
            "\n",
            "===== Clientes =====\n",
            "IDCliente, IDMascota, Nombre, Email, Dirección, Teléfono, Satisfacción, Cumpleaños\n",
            "(232100, 1000, 'Sofía Cruz', 'soficruz@gmail.com', 'Calle 25# 15-20', 3164765576, 'Muy satisfecho', '1980-03-25')\n",
            "(232155, 1001, 'Pablo Pérez', 'pablito25@hotmail.com', 'Calle 116# 50-3', 3145543212, 'Satisfecho', '1996-07-02')\n",
            "\n",
            "\n",
            "===== Productos =====\n",
            "IDProducto, IDCliente, Categoría, Producto, PrecioProducto, MarcaProducto, InventarioProducto\n",
            "(1001, 232100, 'Comida', 'Concentrado 15', 30000.0, 'Hills', 117)\n",
            "(2876, 232155, 'Accesorios', 'Collar pequeño', 18500.0, 'PetsandPets', 27)\n",
            "\n",
            "\n",
            "===== Servicios =====\n",
            "IDServicio, IDCliente, Servicio, PrecioServicio, ServicioDisponible\n",
            "(5546, 232100, 'Peluquería', 30900.0, 'Si')\n",
            "(5567, 232155, 'Baño', 40000.0, 'No')\n",
            "\n",
            "\n",
            "===== Ventas =====\n",
            "IDVenta, IDProducto, IDServicio, CantidadVenta, PrecioUnidad, TotalVenta, FechaVenta, MétodoPagoVenta, CanalVenta\n",
            "(38276, 1001, 5546, 3, 30000, 90000, '2023-02-25', 'Efectivo', 'Físico')\n",
            "(76452, 2876, 5567, 1, 18500, 18500, '2023-04-27', 'Tarjeta', 'Online')\n",
            "\n",
            "\n"
          ]
        }
      ]
    },
    {
      "cell_type": "code",
      "source": [
        "!pip install pandas openpyxl"
      ],
      "metadata": {
        "colab": {
          "base_uri": "https://localhost:8080/"
        },
        "collapsed": true,
        "id": "sb4Hx1Tn3a5W",
        "outputId": "38807baf-2272-46e0-bb7b-274e4619f86f"
      },
      "execution_count": null,
      "outputs": [
        {
          "output_type": "stream",
          "name": "stdout",
          "text": [
            "Requirement already satisfied: pandas in /usr/local/lib/python3.10/dist-packages (2.1.4)\n",
            "Requirement already satisfied: openpyxl in /usr/local/lib/python3.10/dist-packages (3.1.5)\n",
            "Requirement already satisfied: numpy<2,>=1.22.4 in /usr/local/lib/python3.10/dist-packages (from pandas) (1.26.4)\n",
            "Requirement already satisfied: python-dateutil>=2.8.2 in /usr/local/lib/python3.10/dist-packages (from pandas) (2.8.2)\n",
            "Requirement already satisfied: pytz>=2020.1 in /usr/local/lib/python3.10/dist-packages (from pandas) (2024.1)\n",
            "Requirement already satisfied: tzdata>=2022.1 in /usr/local/lib/python3.10/dist-packages (from pandas) (2024.1)\n",
            "Requirement already satisfied: et-xmlfile in /usr/local/lib/python3.10/dist-packages (from openpyxl) (1.1.0)\n",
            "Requirement already satisfied: six>=1.5 in /usr/local/lib/python3.10/dist-packages (from python-dateutil>=2.8.2->pandas) (1.16.0)\n"
          ]
        }
      ]
    },
    {
      "cell_type": "code",
      "source": [
        "import pandas as pd"
      ],
      "metadata": {
        "id": "yEb6kTLx6NXH"
      },
      "execution_count": null,
      "outputs": []
    },
    {
      "cell_type": "code",
      "source": [
        "# Instalar la biblioteca necesaria y montar Google Drive\n",
        "from google.colab import drive\n",
        "drive.mount('/content/drive')"
      ],
      "metadata": {
        "colab": {
          "base_uri": "https://localhost:8080/"
        },
        "id": "SffIBUgB6RaN",
        "outputId": "8688a3f8-4fe3-4a4d-821d-fda9406b03e0"
      },
      "execution_count": null,
      "outputs": [
        {
          "output_type": "stream",
          "name": "stdout",
          "text": [
            "Mounted at /content/drive\n"
          ]
        }
      ]
    },
    {
      "cell_type": "code",
      "source": [
        "def export_to_excel_corrected():\n",
        "    # Connect to the SQLite database\n",
        "    connection = sqlite3.connect('merch_store.db')\n",
        "\n",
        "    # List of tables in our schema\n",
        "    tables = ['Mascotas', 'Clientes', 'Productos', 'Servicios', 'Ventas']\n",
        "\n",
        "    # Create a new Excel writer object\n",
        "    file_path = '/content/drive/My Drive/merch_store_output_db_taller1_Natpin_v1.xlsx'\n",
        "    with pd.ExcelWriter(file_path, engine='openpyxl') as writer:\n",
        "        for table in tables:\n",
        "            # Read table into dataframe\n",
        "            df = pd.read_sql(f\"SELECT * FROM {table}\", connection)\n",
        "\n",
        "            # Write dataframe to Excel\n",
        "            df.to_excel(writer, sheet_name=table, index=False)\n",
        "\n",
        "    # Close the database connection\n",
        "    connection.close()\n",
        "\n",
        "    print(f\"Data exported to {file_path}\")\n",
        "\n",
        "# Execute the function to export data to Excel\n",
        "export_to_excel_corrected()"
      ],
      "metadata": {
        "colab": {
          "base_uri": "https://localhost:8080/"
        },
        "id": "XG7pBqm07i1u",
        "outputId": "09edb377-2c65-46d0-ffa0-c4cd326a4585"
      },
      "execution_count": null,
      "outputs": [
        {
          "output_type": "stream",
          "name": "stdout",
          "text": [
            "Data exported to /content/drive/My Drive/merch_store_output_db_taller1_Natpin_v1.xlsx\n"
          ]
        }
      ]
    },
    {
      "cell_type": "code",
      "source": [
        "!pip install faker  # Install the faker module"
      ],
      "metadata": {
        "id": "VoDwIgieHR4W"
      },
      "execution_count": null,
      "outputs": []
    },
    {
      "cell_type": "code",
      "source": [
        "import sqlite3\n",
        "import pandas as pd\n",
        "import requests\n",
        "import random\n",
        "import uuid\n",
        "from faker import Faker\n",
        "import numpy as np\n",
        "import shutil\n",
        "from google.colab import drive"
      ],
      "metadata": {
        "id": "YLJ_iJ-zHWH2"
      },
      "execution_count": null,
      "outputs": []
    },
    {
      "cell_type": "code",
      "source": [
        "# Montar Google Drive\n",
        "drive.mount('/content/drive')"
      ],
      "metadata": {
        "id": "VOepxyW1HYEc"
      },
      "execution_count": null,
      "outputs": []
    },
    {
      "cell_type": "code",
      "source": [
        "# Inicializar Faker\n",
        "fake = Faker()\n",
        "\n",
        "# Crear la conexión a la base de datos SQLite3\n",
        "conn = sqlite3.connect('financial_data.db')\n",
        "\n",
        "# Función para ejecutar consultas SQL\n",
        "def execute_query(query, conn):\n",
        "    with conn:\n",
        "        conn.execute(query)\n",
        "\n",
        "# Crear las tablas en SQLite3\n",
        "execute_query('''CREATE TABLE IF NOT EXISTS customers (\n",
        "                 customer_id TEXT PRIMARY KEY,\n",
        "                 name TEXT,\n",
        "                 address TEXT,\n",
        "                 phone_number TEXT,\n",
        "                 email TEXT);''', conn)\n",
        "\n",
        "execute_query('''CREATE TABLE IF NOT EXISTS branches (\n",
        "                 branch_id TEXT PRIMARY KEY,\n",
        "                 branch_location TEXT,\n",
        "                 manager_name TEXT,\n",
        "                 contact_number TEXT);''', conn)\n",
        "\n",
        "execute_query('''CREATE TABLE IF NOT EXISTS transaction_types (\n",
        "                 transaction_type TEXT PRIMARY KEY,\n",
        "                 description TEXT);''', conn)\n",
        "\n",
        "execute_query('''CREATE TABLE IF NOT EXISTS transactions (\n",
        "                 transaction_id TEXT PRIMARY KEY,\n",
        "                 customer_id TEXT,\n",
        "                 transaction_date TEXT,\n",
        "                 transaction_amount REAL,\n",
        "                 transaction_location TEXT,\n",
        "                 transaction_type TEXT,\n",
        "                 fraudulent INTEGER,\n",
        "                 branch_id TEXT,\n",
        "                 FOREIGN KEY(customer_id) REFERENCES customers(customer_id),\n",
        "                 FOREIGN KEY(transaction_type) REFERENCES transaction_types(transaction_type),\n",
        "                 FOREIGN KEY(branch_id) REFERENCES branches(branch_id));''', conn)\n"
      ],
      "metadata": {
        "id": "Mw57aeZdHaEc"
      },
      "execution_count": null,
      "outputs": []
    },
    {
      "cell_type": "code",
      "source": [
        "# Función para obtener datos de clientes desde randomuser API\n",
        "def get_random_users(num_users=10):\n",
        "    url = f\"https://randomuser.me/api/?results={num_users}&nat=us\"\n",
        "    response = requests.get(url)\n",
        "    if response.status_code == 200:\n",
        "        users = response.json()['results']\n",
        "        return users\n",
        "    else:\n",
        "        print(\"Error fetching data from randomuser.me\")\n",
        "        return []\n",
        "\n",
        "# Crear la tabla de clientes y guardarla en SQLite3\n",
        "def create_customers_table(num_customers=10):\n",
        "    users = get_random_users(num_customers)\n",
        "    customers_data = {\n",
        "        \"customer_id\": [str(uuid.uuid4()) for _ in range(num_customers)],\n",
        "        \"name\": [f\"{user['name']['first']} {user['name']['last']}\" for user in users],\n",
        "        \"address\": [f\"{user['location']['street']['number']} {user['location']['street']['name']}, {user['location']['city']}, {user['location']['state']}, {user['location']['postcode']}\" for user in users],\n",
        "        \"phone_number\": [user['phone'] for user in users],\n",
        "        \"email\": [user['email'] for user in users]\n",
        "    }\n",
        "    customers_df = pd.DataFrame(customers_data)\n",
        "    customers_df.to_sql('customers', conn, if_exists='replace', index=False)\n",
        "    return customers_df\n",
        "\n",
        "# Crear la tabla de clientes\n",
        "customers_df = create_customers_table(num_customers=100)\n"
      ],
      "metadata": {
        "id": "H8T0L-QNHc2u"
      },
      "execution_count": null,
      "outputs": []
    }
  ]
}